{
 "cells": [
  {
   "attachments": {},
   "cell_type": "markdown",
   "metadata": {},
   "source": [
    "# Data Analysis\n",
    "## Client\n",
    "Erin Robinson: Buyer\t\n",
    "- Invest in poor neighborhood\n",
    "- buying & selling \n",
    "- costs back + little profit\n",
    "- socially responsible\n",
    "\n",
    "Erin wants to buy property in poor neighbourhoods to create, renovate and maintain affordable living space for rent and selling. Since she is responsible, renovating outdated property is possible. With Erins private resources, houses shall be bought, possibly renovated and the new property shall be transfered into a community oriented fund.\n",
    "\n",
    "## Questions:\n",
    "1. What parameters describe a poor neighbourhood based on the house data?\n",
    "2. Where are those poor neighbourhoods located\n",
    "3. In which of those neighbourhoods is the renovated fraction especially small and houses are reletively old and condition or grade is rather bad -> These are the neighborhoods in most need of development "
   ]
  },
  {
   "attachments": {},
   "cell_type": "markdown",
   "metadata": {},
   "source": [
    "### Question 1. : What parameters describe a poor neighbourhood based on the house data?\n",
    "#### Assumptions:\n",
    "- A poor neighborhood is characterized by a comperatively low price / m^2 and low absolute housing prices\n",
    "- Lot and living areas are small\n",
    "- Housing is in a bad condition and has a bad grade\n",
    "\n",
    "#### Further Information: Poverty rate\n",
    "\n",
    "The poverty rate is the ratio of the number of people (in a given age group) whose income falls below the poverty line; taken as half the median household income of the total population.\n",
    "The povery rate among all age groups in the US is 0.151\n",
    "(OECD (2023), Poverty rate (indicator). doi: 10.1787/0fe1315d-en (Accessed on 26 January 2023))\n",
    "\n",
    "#### Methods\n",
    "As the poverty rate of the USA is 0.151, we assumed for this project, that only the houses within the lowest 15% of all Houses in King County in Terms of absolute prices and prices/m^2 are affordable to people living below the poverty line. \n",
    "Further we want to have a look at the following columns to identify poor neighborhoods:\n",
    "- price / m^2\n",
    "- absolute price\n",
    "- living area in m^2\n",
    "- condition\n",
    "- grade\n",
    "\n",
    "1. So to identify, wether a single house is affordable, we calculated the affordable-housing-threshhold *AHT(var)* as the 15th percentile of all values in the respective column *var*.\n",
    "2. Next, for each *house i* and column *var* we tested, wether the respective value was below *AHT(var)*, if so, a *TRUE* value was assigned to *house(var)i*.\n",
    "3. In the final step, for each neigborhood *j* and column *var*, differentiated by the zip-codes, we calculated the ratio of houses within that neighborhood *R* below the *AHT(var)*. This ration denotes, which percentage of houses in this neighborhoods are within the lowest 15 percent of all houses in King-County. The higher *R var,j* the more houses in this neighborhood can be considered affordable and available to people of especially low incomes. And if that percentage is especially high for several variables in a neighborhood, we deem those neighborhood to be of high interest for the creation of community oriented and affordable living space as described above."
   ]
  },
  {
   "attachments": {},
   "cell_type": "markdown",
   "metadata": {},
   "source": [
    "##### Setting up the Notebook"
   ]
  },
  {
   "cell_type": "code",
   "execution_count": 1,
   "metadata": {},
   "outputs": [],
   "source": [
    "### Setup the notebook\n",
    "import pandas as pd\n",
    "import numpy as np\n",
    "import plotly.express as px\n",
    "from plotnine import *\n",
    "from functools import reduce # function to apply upon a list - to join Dataframes consecutively\n",
    "\n",
    "### Import cleaned DF without duplicate houses including only the latest sale\n",
    "df_hs = pd.read_pickle(\"./data/df_houses_cleaned.pkl\")"
   ]
  },
  {
   "attachments": {},
   "cell_type": "markdown",
   "metadata": {},
   "source": [
    "##### 1.1 Calculate the *AHT_var*\n",
    "For the columns: price_living_sqm, price_lot_sqm, a_living_sqm, grade, condition"
   ]
  },
  {
   "cell_type": "code",
   "execution_count": 2,
   "metadata": {},
   "outputs": [
    {
     "data": {
      "text/plain": [
       "{'price': 273000.0,\n",
       " 'price_living_sqm': 1716.82,\n",
       " 'price_lot_sqm': 267.6735,\n",
       " 'a_living_sqm': 113.34,\n",
       " 'grade': 7.0,\n",
       " 'condition': 3.0}"
      ]
     },
     "execution_count": 2,
     "metadata": {},
     "output_type": "execute_result"
    }
   ],
   "source": [
    "### Calculate price / m^2 for living and lot area\n",
    "df_hs[\"price_living_sqm\"] = (df_hs.price / df_hs.a_living_sqm).round(2)\n",
    "df_hs[\"price_lot_sqm\"] = (df_hs.price / df_hs.a_lot_sqm).round(2)\n",
    "\n",
    "### Calculate percentile as a dictionary for: price_living_sqm, price_lot_sqm, a_living_sqm, grade, condition\n",
    "\n",
    "col_perc_15 = {} # dictionary to be filled\n",
    "# columns to apply perc on as list - keys in the above dict and as a variable for later use\n",
    "cols = [\"price\", \"price_living_sqm\", \"price_lot_sqm\", \"a_living_sqm\", \"grade\", \"condition\"] \n",
    "\n",
    "# Loop through the columns and fill dict with the calculated AHT_var as 15th percentile \n",
    "for col in cols:\n",
    "    \n",
    "    col_perc_15[col] = df_hs[col].quantile(0.15)\n",
    "\n",
    "del col\n",
    "col_perc_15"
   ]
  },
  {
   "attachments": {},
   "cell_type": "markdown",
   "metadata": {},
   "source": [
    "#### 1.2 Are entries of *house_i* and column *var* below *AHT_var*?"
   ]
  },
  {
   "cell_type": "code",
   "execution_count": 3,
   "metadata": {},
   "outputs": [],
   "source": [
    "### Define dictionary of boolean series for those columns of interest \n",
    "### wether the entry i in the respective column var is <=  AHT var\n",
    "col_test_perc_15 = {}\n",
    "\n",
    "### Loop through the columns of interest and create the boolean Series if the entry var_i is below AHT_var\n",
    "for col in cols:\n",
    "    series_col = df_hs[col] <= col_perc_15[col]\n",
    "    col_test_perc_15[col] = series_col\n",
    "\n",
    "### Save it as DataFrame\n",
    "df_perc_15 = pd.DataFrame.from_dict(col_test_perc_15)\n",
    "\n",
    "del col\n",
    "del series_col"
   ]
  },
  {
   "attachments": {},
   "cell_type": "markdown",
   "metadata": {},
   "source": [
    "##### Are condition and grade suitable to be included in further analysis?\n",
    "- Create boxplots of the price / m^2 differentiated by levels of grade and condition"
   ]
  },
  {
   "cell_type": "code",
   "execution_count": 4,
   "metadata": {},
   "outputs": [
    {
     "name": "stderr",
     "output_type": "stream",
     "text": [
      "/Users/gunnaroehmichen/neuefische/ds-eda-project-gunnar-oeh/.venv/lib/python3.9/site-packages/pandas/core/indexing.py:1884: SettingWithCopyWarning: \n",
      "A value is trying to be set on a copy of a slice from a DataFrame.\n",
      "Try using .loc[row_indexer,col_indexer] = value instead\n",
      "\n",
      "See the caveats in the documentation: https://pandas.pydata.org/pandas-docs/stable/user_guide/indexing.html#returning-a-view-versus-a-copy\n"
     ]
    }
   ],
   "source": [
    "### Look at grade, price, condition. \n",
    "### Subset the greater DF to these columns for creating boxplots\n",
    "ind = np.isin(df_hs.columns, [\"grade\", \"condition\", \"price\"])\n",
    "\n",
    "### Boxplot for both variables condition and grade against price\n",
    "df_condgrpr = df_hs.loc[:,ind]\n",
    "### Cast condition and grade to str to group them as factors on x-Axis\n",
    "df_condgrpr.loc[:,[\"condition\", \"grade\"]] = df_condgrpr.loc[:,[\"condition\", \"grade\"]].astype(\"str\")\n",
    "\n",
    "df_condgrpr ### reasonable values for condition and grade\n",
    "del ind"
   ]
  },
  {
   "cell_type": "code",
   "execution_count": 8,
   "metadata": {},
   "outputs": [
    {
     "name": "stderr",
     "output_type": "stream",
     "text": [
      "/Users/gunnaroehmichen/neuefische/ds-eda-project-gunnar-oeh/.venv/lib/python3.9/site-packages/plotnine/ggplot.py:718: PlotnineWarning: Saving 6.4 x 4.8 in image.\n",
      "/Users/gunnaroehmichen/neuefische/ds-eda-project-gunnar-oeh/.venv/lib/python3.9/site-packages/plotnine/ggplot.py:719: PlotnineWarning: Filename: ./plots/price_condition_boxplot.png\n",
      "/Users/gunnaroehmichen/neuefische/ds-eda-project-gunnar-oeh/.venv/lib/python3.9/site-packages/plotnine/layer.py:333: PlotnineWarning: stat_boxplot : Removed 1452 rows containing non-finite values.\n",
      "/Users/gunnaroehmichen/neuefische/ds-eda-project-gunnar-oeh/.venv/lib/python3.9/site-packages/plotnine/layer.py:333: PlotnineWarning: stat_boxplot : Removed 1452 rows containing non-finite values.\n"
     ]
    },
    {
     "data": {
      "image/png": "[encoded data removed]",
      "text/plain": [
       "<Figure size 640x480 with 1 Axes>"
      ]
     },
     "metadata": {},
     "output_type": "display_data"
    },
    {
     "data": {
      "text/plain": [
       "<ggplot: (326764180)>"
      ]
     },
     "execution_count": 8,
     "metadata": {},
     "output_type": "execute_result"
    }
   ],
   "source": [
    "### Create boxplots with ggplot functions (plotnine library)\n",
    "\n",
    "### Set up the plot object with ggplot() and add the \n",
    "P1 = ggplot (df_condgrpr, aes (x = \"condition\", y = \"price\")) + \\\n",
    "    geom_boxplot() + \\\n",
    "        ylim((0, 1000000)) ### Add limits to the y axis to cut off the long tails for better conditions\n",
    "ggsave (P1, \"./plots/price_condition_boxplot.png\", dpi = 150) ### Function to save as image\n",
    "\n",
    "P1"
   ]
  },
  {
   "cell_type": "code",
   "execution_count": 10,
   "metadata": {},
   "outputs": [
    {
     "name": "stderr",
     "output_type": "stream",
     "text": [
      "/Users/gunnaroehmichen/neuefische/ds-eda-project-gunnar-oeh/.venv/lib/python3.9/site-packages/plotnine/ggplot.py:718: PlotnineWarning: Saving 6.4 x 4.8 in image.\n",
      "/Users/gunnaroehmichen/neuefische/ds-eda-project-gunnar-oeh/.venv/lib/python3.9/site-packages/plotnine/ggplot.py:719: PlotnineWarning: Filename: ./plots/price_grade_boxplot.png\n",
      "/Users/gunnaroehmichen/neuefische/ds-eda-project-gunnar-oeh/.venv/lib/python3.9/site-packages/plotnine/layer.py:333: PlotnineWarning: stat_boxplot : Removed 11 rows containing non-finite values.\n",
      "/Users/gunnaroehmichen/neuefische/ds-eda-project-gunnar-oeh/.venv/lib/python3.9/site-packages/plotnine/layer.py:333: PlotnineWarning: stat_boxplot : Removed 11 rows containing non-finite values.\n"
     ]
    },
    {
     "data": {
      "image/png": "[encoded data removed]",
      "text/plain": [
       "<Figure size 640x480 with 1 Axes>"
      ]
     },
     "metadata": {},
     "output_type": "display_data"
    },
    {
     "data": {
      "text/plain": [
       "<ggplot: (326965815)>"
      ]
     },
     "execution_count": 10,
     "metadata": {},
     "output_type": "execute_result"
    }
   ],
   "source": [
    "### Second plot\n",
    "P2 = ggplot (df_condgrpr, aes (x = \"grade\", y = \"price\")) + \\\n",
    "    geom_boxplot() + \\\n",
    "        ylim((0,4000000)) ### Add limits to the y axis to cut off the long tails for better grades\n",
    "ggsave (P2, \"./plots/price_grade_boxplot.png\", dpi = 150)\n",
    "P2"
   ]
  },
  {
   "attachments": {},
   "cell_type": "markdown",
   "metadata": {},
   "source": [
    "- Both variables show a great range with right-skewed data with a long tail. The tail with explainable outliers (expensive, luxurious houses) grows larger and ranges into the range of a price of several million dollars especially for higher graded houses\n",
    "- The price is closely associated with grade. It could almost be described as a luxury variable.\n",
    "- The condition is a better supplement to the price, as it can be seen mor of a descriptor of the need for renovation and might be more related to the safety and hygiene of the houses\n",
    "- The width of the main range (25th - 75th percentile) is similar among condition labels, yet from condition 2 to 3 a slight jump occurs to distributions of higher prices"
   ]
  },
  {
   "attachments": {},
   "cell_type": "markdown",
   "metadata": {},
   "source": [
    "### Question 1: Takeaways\n",
    "\n",
    "- Correlation graph as it is now not well suited - lowest correlations have the highest numbers\n",
    "- The larger the living area, the higher the grade (0.72)\n",
    "- The grade rises slightly with the area price\n",
    "- The price per area rises only slightly with the condition\n",
    "- The grade rises with the price per lot area\n",
    "- The price rises with the grade\n",
    "- The median price for houses in condition 1 and 2 seems to be 100000$ lower than 3-5. Therefore focus on those houses"
   ]
  },
  {
   "attachments": {},
   "cell_type": "markdown",
   "metadata": {},
   "source": [
    "### Question 2: Where might poor neighborhoods based on the housing data be located?\n",
    "\n",
    "#### Methods:\n",
    "- Compare percentage of houses with low price per sqm (<= perc(15)) between zip codes\n",
    "- Plot the most promising locations"
   ]
  },
  {
   "cell_type": "code",
   "execution_count": null,
   "metadata": {},
   "outputs": [],
   "source": [
    "### Meaningful zip-code and house data?\n",
    "\n",
    "df_zip_count = df_hs.groupby(\"zipcode\", as_index = False).count()[[\"zipcode\", \"id_house\"]]\n",
    "df_zip_count # 70 zipcodes\n",
    "df_zip_count.describe().round(2) # with a mean of 308 houses each between 50 and 600 houses"
   ]
  },
  {
   "cell_type": "code",
   "execution_count": null,
   "metadata": {},
   "outputs": [],
   "source": [
    "### Percentage of houses per zip-code below the price per area living 15 th percentile\n",
    "cols_subset = cols + [\"zipcode\", \"id_house\"] # subset of columns for further investigation\n",
    "### concat cols and the boolean information on the percentile\n",
    "\n",
    "### Or cleaer differientiating by price?"
   ]
  },
  {
   "cell_type": "code",
   "execution_count": null,
   "metadata": {},
   "outputs": [],
   "source": [
    "### Concatenate df_hs with only columns of interest and df_perc_15\n",
    "new_cols = {}\n",
    "for col in list(df_perc_15.columns):\n",
    "    new_cols[col] = \"under15_\" + col\n",
    "\n",
    "df_perc_15.rename(new_cols, axis = 1, inplace = True)\n",
    "\n",
    "### df of interest with columns of interest and wether they are below their respt 15 perc\n",
    "df_hs_intr = pd.concat([df_hs[cols_subset], df_perc_15], axis = 1)\n"
   ]
  },
  {
   "cell_type": "code",
   "execution_count": null,
   "metadata": {},
   "outputs": [],
   "source": [
    "### Function to calculate the ratio of houses below the 15th perc for the corresponding column\n",
    "### eg for column price: calculates for each zipcode, the ratio of house prices under the 15th percentile \n",
    "### of house prices from the whole county\n",
    "\n",
    "def ratio_group(df, col_name, group_factor = \"zipcode\"):\n",
    "    col_perc15 = \"under15_\" + col_name # name of colum with corresponding boolean <= perc 15\n",
    "    df_gr = df.groupby([group_factor, col_perc15], as_index = False).count()[[group_factor, col_perc15, \"id_house\"]]\n",
    "    df_gr.rename({\"id_house\":\"n_houses\"}, axis = 1, inplace = True)\n",
    "\n",
    "# Calculates the ratio only for those zipcodes, where there are houses below the 15th percentile of the corresponding\n",
    "# column\n",
    "    def ratio_perc15(df_2):\n",
    "        ind = df_2[col_perc15] == True\n",
    "        new_col_rat = \"ratio_\" + col_perc15 # new name for ratio column\n",
    "        df_2[new_col_rat] = df_2.n_houses[ind] / sum (df_2.n_houses)\n",
    "        return df_2\n",
    "\n",
    "    df_gr = df_gr.groupby(group_factor, as_index = False).apply(ratio_perc15)\n",
    "    df_gr = df_gr[df_gr[col_perc15] == True]\n",
    "    return df_gr.iloc[:,[0,3]]\n",
    "\n",
    "### Apply to all columns of interest - create a list with a df for each column of interes\n",
    "### (price, price per sqm, area living space and lot, condition, grade)\n",
    "ratios_zip = []\n",
    "for x in cols:\n",
    "    ratios_zip.append(ratio_group(df_hs_intr, x))\n",
    "\n",
    "\n",
    "### Combine dfs in list into one df\n",
    "df_ratios = reduce (lambda df1, df2: df1.merge (df2, on = \"zipcode\", how = \"outer\"), ratios_zip)\n",
    "\n",
    "### Compare info on the whole new df of ratios \n",
    "df_ratios.info()\n",
    "### with length of dfs in the original list\n",
    "for x in ratios_zip:\n",
    "    print (len(x))\n",
    "\n",
    "### df_ratios can be now used for searching for the right zipcode\n"
   ]
  },
  {
   "cell_type": "code",
   "execution_count": null,
   "metadata": {},
   "outputs": [],
   "source": [
    "df_ratios_long = df_ratios.melt(id_vars = \"zipcode\")\n",
    "df_ratios_long[\"zip_str\"] = df_ratios_long.zipcode.astype(\"str\")\n",
    "df_ratios_long[\"variable\"] = df_ratios_long[\"variable\"].str.replace (\"ratio_under15_\", \"\")\n",
    "\n",
    "P5 = ggplot(df_ratios_long, aes (x = \"variable\", y = \"value\")) + \\\n",
    "    geom_boxplot() + \\\n",
    "    coord_flip() + \\\n",
    "    labs(title = \"Ratio of houses within lowest 15 perc. across Zipcodes\", x = \"\", y = \"ratio\")\n",
    "P5\n",
    "ggsave (P5, \"./plots/ratios_zipcodes.png\", dpi = 150)\n",
    "\n"
   ]
  },
  {
   "attachments": {},
   "cell_type": "markdown",
   "metadata": {},
   "source": [
    "#### 2.1 Which ratios are best suited to identify the neighbourhoods in most need of funded development\n",
    "- The ratio of houses of a zipcode with a price, a price per m^2 living or lot space within the lowest 15% of all king-county houses is better suited to identify especially poor neighborhoods\n",
    "- Since most zipcodes have only a low percentage (median values) of those affordable houses and should therefore not predominantly be populated by lower income houshoulds\n",
    "- The relative amount of houses within the lowest 15% of grades and condition per zipcode are different.\n",
    "- The median among the zipcodes is ~ 60%. So it is very common for every neighboorhood, that more than half of its houses have received a very low grade or are in a bad condition"
   ]
  },
  {
   "attachments": {},
   "cell_type": "markdown",
   "metadata": {},
   "source": [
    "#### 2.2 Identify the few Zipcodes with the highest percentage of houses in the lower 15th percentile\n",
    "\n",
    "- Order the df_ratios by variable: price_living_sqm\n",
    "- Identify the 10 with highest ration"
   ]
  },
  {
   "cell_type": "code",
   "execution_count": null,
   "metadata": {},
   "outputs": [],
   "source": [
    "### Order Dataframe ratios\n",
    "df_ratios.sort_values(by = \"ratio_under15_price_living_sqm\", ascending = False, inplace = True)\n",
    "df_ratios.reset_index(inplace = True, drop = True)\n",
    "\n",
    "df_ratios = df_ratios.iloc[:,0:]\n",
    "\n",
    "df_ratios.head(10)\n"
   ]
  },
  {
   "cell_type": "code",
   "execution_count": null,
   "metadata": {},
   "outputs": [],
   "source": [
    "### Scatterplot: ratio_price_living ~ ratio_price, colour + size = condition\n",
    "### Highlight a few zipcodes\n",
    "P6 = ggplot(df_ratios, aes (x = \"ratio_under15_price_living_sqm\", y = \"ratio_under15_price\")) + \\\n",
    "    geom_point(aes (fill = \"ratio_under15_condition\", size = \"ratio_under15_condition\")) + \\\n",
    "        scale_fill_gradient(low = \"#d4dbea\", high = \"#011d5b\") + \\\n",
    "        labs (title = \"Ratio of houses within lowest 15 perc. across Zipcodes\",\n",
    "        x = \"Ratio: Price / m^2\", y = \"Ratio: Price\", fill = \"Ratio: Condition\", size = \"Ratio: Condition\")\n",
    "\n",
    "df_ratios[\"zip_str\"] = df_ratios.zipcode.astype(\"str\")"
   ]
  },
  {
   "cell_type": "code",
   "execution_count": null,
   "metadata": {},
   "outputs": [],
   "source": [
    "### Plot the highlighted as endpoints\n",
    "#df_ratios.zip_str[12:] = np.nan\n",
    "# df_ratios.zip_str\n",
    "\n",
    "P6 + geom_text(aes(label = \"zip_str\"), nudge_x = 0.05)\n",
    "\n",
    "### The zipcodes [98022, 98092, 98012, 98031, 98002, 98032] do not fit the expectation of neighborhood\n",
    "### with high percentage of houses in lowest 15 of price, price / sqm and especially condition\n",
    "### Make them NA to not display the Value\n",
    "ind = df_ratios.zipcode.isin([98022, 98092, 98042, 98031, 98002, 98032])\n",
    "df_ratios.zip_str[ind] = np.nan\n",
    "\n",
    "### Save the plot\n",
    "P6 = P6 + geom_text(aes(label = \"zip_str\"), nudge_x = 0.05)\n",
    "P6\n",
    "ggsave(P6, \"plots/scatterplot_ratio_zipcodes.png\", dpi = 150)\n",
    "\n"
   ]
  },
  {
   "attachments": {},
   "cell_type": "markdown",
   "metadata": {},
   "source": [
    "#### 2.2 Scatterplot of the ratio of houses which are within the lowest 15 % for the respective parameter among zipcodes\n",
    "- Ratio of Price / m^2 and overall Price within the lowest 15% of prices:\n",
    "- Identified Neighborhoods where most houses have a relatively low price per area and price overall\n",
    "- Size and color of dots: The larger and darker the higher the percentage of houses within the lowest 15% of the condition\n",
    "- Choose neighboorhoods with a high percentage: Relatively many houses in a bad condition\n",
    "\n",
    "- Identified Neighboorhoods with the highest percentage of low priced living space in a bad condition\n",
    "-> Here Erin should invest to buy and renovate for the fund"
   ]
  },
  {
   "cell_type": "code",
   "execution_count": null,
   "metadata": {},
   "outputs": [],
   "source": [
    "### Geoplot of those zipcodes\n",
    "### extract zipcodes\n",
    "### subset original df with locations\n",
    "final_zips = df_ratios.zip_str.dropna().astype(\"int\")\n"
   ]
  },
  {
   "cell_type": "code",
   "execution_count": null,
   "metadata": {},
   "outputs": [],
   "source": [
    "### Dataframe of houses in the chosen zipcodes\n",
    "df_zip_poor = df_hs[df_hs.zipcode.isin(final_zips)]\n",
    "df_zip_poor.zipcode.unique() ### Worked\n",
    "df_zip_poor.reset_index(inplace=True, drop= True)\n",
    "\n",
    "### Groupby Zipcode and calculate mean for lon and lat for plotting\n",
    "df_zip_sum = df_zip_poor[[\"zipcode\", \"lat\", \"long\"]].groupby(\"zipcode\", as_index = False).apply(lambda x: np.mean(x))\n",
    "\n",
    "### Add Name\n",
    "df_zip_sum[\"name\"] = [\"Auburn, WA\", \"Federal Way, WA\", \"Federal Way, WA\", \"Kent, WA\", \"Seattle, WA\", \"Seattle, WA\"]\n",
    "df_zip_sum.zipcode = df_zip_sum.zipcode.astype(\"int\")"
   ]
  },
  {
   "cell_type": "code",
   "execution_count": null,
   "metadata": {},
   "outputs": [],
   "source": [
    "### Scatter geo\n",
    "P7 = px.scatter_mapbox(df_zip_sum,\n",
    "        title = \"Poorer Neighborhoods <br> with development potential in King County\",\n",
    "        lat=\"lat\", lon=\"long\",\n",
    "        #hover_name=\"name\",\n",
    "        hover_data=[\"zipcode\"],\n",
    "        text = \"name\",\n",
    "        zoom=10,  height=600)\n",
    "\n",
    "P7.update_layout(\n",
    "    title_x=0.5,\n",
    "    title_y=0.95,\n",
    "    mapbox={\"style\": \"open-street-map\"},\n",
    "    margin={\"l\": 0, \"r\": 0, \"b\": 0, \"t\": 80}\n",
    ")\n",
    "P7.show()\n",
    "P7.write_image(file = \"./plots/scatter_map.png\", width = 1200)\n"
   ]
  }
 ],
 "metadata": {
  "kernelspec": {
   "display_name": ".venv",
   "language": "python",
   "name": "python3"
  },
  "language_info": {
   "codemirror_mode": {
    "name": "ipython",
    "version": 3
   },
   "file_extension": ".py",
   "mimetype": "text/x-python",
   "name": "python",
   "nbconvert_exporter": "python",
   "pygments_lexer": "ipython3",
   "version": "3.9.8 (main, Jan  9 2023, 15:57:35) \n[Clang 14.0.0 (clang-1400.0.29.202)]"
  },
  "orig_nbformat": 4,
  "vscode": {
   "interpreter": {
    "hash": "9ce94bdfc54693336f2ba42aa87a7cd0f0c4e0845b78939f0948bf4cf6add902"
   }
  }
 },
 "nbformat": 4,
 "nbformat_minor": 2
}
