{
 "cells": [
  {
   "attachments": {},
   "cell_type": "markdown",
   "metadata": {},
   "source": [
    "# Data Analysis\n",
    "## Client\n",
    "Erin Robinson: Buyer\t\n",
    "- Invest in poor neighborhood\n",
    "- buying & selling \n",
    "- costs back + little profit\n",
    "- socially responsible\n",
    "\n",
    "Erin wants to buy property in poor neighbourhoods to create, renovate and maintain affordable living space for rent and selling. Since she is responsible, renovating outdated property is possible. With Erins private resources, houses shall be bought, possibly renovated and the new property shall be transfered into a community oriented fund.\n",
    "\n",
    "## Questions:\n",
    "1. What parameters describe a poor neighbourhood based on the house data?\n",
    "2. Where are those poor neighbourhoods located\n",
    "3. In which of those neighbourhoods is the renovated fraction especially small and houses are reletively old and condition or grade is rather bad -> These are the neighborhoods in most need of development "
   ]
  },
  {
   "attachments": {},
   "cell_type": "markdown",
   "metadata": {},
   "source": [
    "### Question 1. : What parameters describe a poor neighbourhood based on the house data?\n",
    "#### Assumptions:\n",
    "- low price / m^2\n",
    "- small lot area\n",
    "- small living area\n",
    "- bad condition\n",
    "- bad grade\n",
    "\n",
    "#### Further Information: Poverty rate\n",
    "\n",
    "The poverty rate is the ratio of the number of people (in a given age group) whose income falls below the poverty line; taken as half the median household income of the total population.\n",
    "The povery rate among all age groups in the US is 0.151\n",
    "(OECD (2023), Poverty rate (indicator). doi: 10.1787/0fe1315d-en (Accessed on 26 January 2023))\n",
    "\n",
    "#### Methods\n",
    "- price per m^2 <= perc(15)\n",
    "- lot area <= perc(15)\n",
    "- living area <= perc(15)\n",
    "- condition <= perc(15)\n",
    "- grade <= perc(15)"
   ]
  },
  {
   "cell_type": "code",
   "execution_count": 108,
   "metadata": {},
   "outputs": [],
   "source": [
    "### Setup\n",
    "import pandas as pd\n",
    "import numpy as np\n",
    "# import missingno as msn\n",
    "import plotly.express as px\n",
    "# import datetime as dt\n",
    "from plotnine import *\n",
    "from functools import reduce\n",
    "import kaleido\n",
    "\n",
    "df_hs = pd.read_pickle(\"./data/df_houses_cleaned.pkl\")"
   ]
  },
  {
   "cell_type": "code",
   "execution_count": null,
   "metadata": {},
   "outputs": [],
   "source": [
    "### Question 1. : What parameters describe a poor neighbourhood based on the house data?\n",
    "\n",
    "### Calculate price / m^2\n",
    "df_hs[\"price_living_sqm\"] = (df_hs.price / df_hs.a_living_sqm).round(2)\n",
    "df_hs[\"price_lot_sqm\"] = (df_hs.price / df_hs.a_lot_sqm).round(2)\n",
    "\n"
   ]
  },
  {
   "cell_type": "code",
   "execution_count": null,
   "metadata": {},
   "outputs": [],
   "source": [
    "### Calculate percentile as dictionary for: price_living_sqm, price_lot_sqm, a_living_sqm, grade, condition\n",
    "col_perc_15 = {} # dictionary to be filled\n",
    "cols = [\"price\", \"price_living_sqm\", \"price_lot_sqm\", \"a_living_sqm\", \"grade\", \"condition\"] # columns to apply perc on\n",
    "for col in cols:\n",
    "    \n",
    "    col_perc_15[col] = df_hs[col].quantile(0.15)\n",
    "\n",
    "del col\n",
    "col_perc_15\n"
   ]
  },
  {
   "cell_type": "code",
   "execution_count": null,
   "metadata": {},
   "outputs": [],
   "source": [
    "### Define boolean series for those columns wether the entry in the respective column is <= the perc(15)\n",
    "col_test_perc_15 = {}\n",
    "for col in cols:\n",
    "    series_col = df_hs[col] <= col_perc_15[col]\n",
    "    col_test_perc_15[col] = series_col\n",
    "\n",
    "### Save it as DataFrame\n",
    "df_perc_15 = pd.DataFrame.from_dict(col_test_perc_15)\n",
    "### Find out, wether this was a smart choice?\n",
    "### Do the columns \"price_living_sqm\", \"price_lot_sqm\", \"a_living_sqm\", \"grade\", \"condition\" correlate?\n",
    "\n",
    "### Create a correlation matrix of the columns of interest\n",
    "df_corr_1 = df_hs[cols].corr(method = \"spearman\")\n",
    "\n",
    "### Names for indexes\n",
    "new_ind = {}\n",
    "k = 0\n",
    "for col in cols:\n",
    "    new_ind[k] = col\n",
    "    k += 1\n",
    "\n",
    "df_corr_1.rename (index = new_ind, inplace = True)\n",
    "\n",
    "### Create a correlation plot\n",
    "df_corr_1 = df_corr_1.melt(ignore_index = False).rename_axis (\"index1\").reset_index()\n",
    "df_corr_1.rename ({'index1':'var_1', 'variable':'var_2', 'value':'spearman_correlation'}, inplace = True, axis = 1)\n",
    "df_corr_1[\"lab_text\"] = df_corr_1.spearman_correlation.round(2).astype(\"str\")\n"
   ]
  },
  {
   "cell_type": "code",
   "execution_count": null,
   "metadata": {},
   "outputs": [],
   "source": [
    "P3 = ggplot(df_corr_1, aes(x = \"var_2\", y = \"var_1\", fill = \"spearman_correlation\")) + \\\n",
    "    geom_tile() + \\\n",
    "    geom_label(\n",
    "        aes (label = \"lab_text\"),\n",
    "                fill = \"white\",\n",
    "                size = 8) + \\\n",
    "    scale_fill_distiller() + \\\n",
    "    theme_minimal() + \\\n",
    "    labs(title = \"Housing characteristics - Correlation Matrix\", x = \"\", y = \"\") + \\\n",
    "    theme (axis_text_x = element_text(rotation = 45, hjust = 1),\n",
    "            figure_size = (8,6))\n",
    "\n",
    "ggsave (P3, \"./plots/correlation.png\", dpi = 150)"
   ]
  },
  {
   "attachments": {},
   "cell_type": "markdown",
   "metadata": {},
   "source": [
    "### Question 1: Takeaways\n",
    "\n",
    "- Correlation graph as it is now not well suited - lowest correlations have the highest numbers\n",
    "- The larger the living area, the higher the grade (0.72)\n",
    "- The grade rises slightly with the area price\n",
    "- The price per area rises only slightly with the condition\n",
    "- The grade rises with the price per lot area\n",
    "- The price rises with the grade\n",
    "- The median price for houses in condition 1 and 2 seems to be 100000$ lower than 3-5. Therefore focus on those houses"
   ]
  },
  {
   "attachments": {},
   "cell_type": "markdown",
   "metadata": {},
   "source": [
    "### Question 2: Where might poor neighborhoods based on the housing data be located?\n",
    "\n",
    "#### Methods:\n",
    "- Compare percentage of houses with low price per sqm (<= perc(15)) between zip codes\n",
    "- Plot the most promising locations"
   ]
  },
  {
   "cell_type": "code",
   "execution_count": null,
   "metadata": {},
   "outputs": [],
   "source": [
    "### Meaningful zip-code and house data?\n",
    "\n",
    "df_zip_count = df_hs.groupby(\"zipcode\", as_index = False).count()[[\"zipcode\", \"id_house\"]]\n",
    "df_zip_count # 70 zipcodes\n",
    "df_zip_count.describe().round(2) # with a mean of 308 houses each between 50 and 600 houses"
   ]
  },
  {
   "cell_type": "code",
   "execution_count": null,
   "metadata": {},
   "outputs": [],
   "source": [
    "### Percentage of houses per zip-code below the price per area living 15 th percentile\n",
    "cols_subset = cols + [\"zipcode\", \"id_house\"] # subset of columns for further investigation\n",
    "### concat cols and the boolean information on the percentile\n",
    "\n",
    "### Or cleaer differientiating by price?"
   ]
  },
  {
   "cell_type": "code",
   "execution_count": null,
   "metadata": {},
   "outputs": [],
   "source": [
    "### Concatenate df_hs with only columns of interest and df_perc_15\n",
    "new_cols = {}\n",
    "for col in list(df_perc_15.columns):\n",
    "    new_cols[col] = \"under15_\" + col\n",
    "\n",
    "df_perc_15.rename(new_cols, axis = 1, inplace = True)\n",
    "\n",
    "### df of interest with columns of interest and wether they are below their respt 15 perc\n",
    "df_hs_intr = pd.concat([df_hs[cols_subset], df_perc_15], axis = 1)\n"
   ]
  },
  {
   "cell_type": "code",
   "execution_count": null,
   "metadata": {},
   "outputs": [],
   "source": [
    "### Function to calculate the ratio of houses below the 15th perc for the corresponding column\n",
    "### eg for column price: calculates for each zipcode, the ratio of house prices under the 15th percentile \n",
    "### of house prices from the whole county\n",
    "\n",
    "def ratio_group(df, col_name, group_factor = \"zipcode\"):\n",
    "    col_perc15 = \"under15_\" + col_name # name of colum with corresponding boolean <= perc 15\n",
    "    df_gr = df.groupby([group_factor, col_perc15], as_index = False).count()[[group_factor, col_perc15, \"id_house\"]]\n",
    "    df_gr.rename({\"id_house\":\"n_houses\"}, axis = 1, inplace = True)\n",
    "\n",
    "# Calculates the ratio only for those zipcodes, where there are houses below the 15th percentile of the corresponding\n",
    "# column\n",
    "    def ratio_perc15(df_2):\n",
    "        ind = df_2[col_perc15] == True\n",
    "        new_col_rat = \"ratio_\" + col_perc15 # new name for ratio column\n",
    "        df_2[new_col_rat] = df_2.n_houses[ind] / sum (df_2.n_houses)\n",
    "        return df_2\n",
    "\n",
    "    df_gr = df_gr.groupby(group_factor, as_index = False).apply(ratio_perc15)\n",
    "    df_gr = df_gr[df_gr[col_perc15] == True]\n",
    "    return df_gr.iloc[:,[0,3]]\n",
    "\n",
    "### Apply to all columns of interest - create a list with a df for each column of interes\n",
    "### (price, price per sqm, area living space and lot, condition, grade)\n",
    "ratios_zip = []\n",
    "for x in cols:\n",
    "    ratios_zip.append(ratio_group(df_hs_intr, x))\n",
    "\n",
    "\n",
    "### Combine dfs in list into one df\n",
    "df_ratios = reduce (lambda df1, df2: df1.merge (df2, on = \"zipcode\", how = \"outer\"), ratios_zip)\n",
    "\n",
    "### Compare info on the whole new df of ratios \n",
    "df_ratios.info()\n",
    "### with length of dfs in the original list\n",
    "for x in ratios_zip:\n",
    "    print (len(x))\n",
    "\n",
    "### df_ratios can be now used for searching for the right zipcode\n"
   ]
  },
  {
   "cell_type": "code",
   "execution_count": null,
   "metadata": {},
   "outputs": [],
   "source": [
    "df_ratios_long = df_ratios.melt(id_vars = \"zipcode\")\n",
    "df_ratios_long[\"zip_str\"] = df_ratios_long.zipcode.astype(\"str\")\n",
    "df_ratios_long[\"variable\"] = df_ratios_long[\"variable\"].str.replace (\"ratio_under15_\", \"\")\n",
    "\n",
    "P5 = ggplot(df_ratios_long, aes (x = \"variable\", y = \"value\")) + \\\n",
    "    geom_boxplot() + \\\n",
    "    coord_flip() + \\\n",
    "    labs(title = \"Ratio of houses within lowest 15 perc. across Zipcodes\", x = \"\", y = \"ratio\")\n",
    "P5\n",
    "ggsave (P5, \"./plots/ratios_zipcodes.png\", dpi = 150)\n",
    "\n"
   ]
  },
  {
   "attachments": {},
   "cell_type": "markdown",
   "metadata": {},
   "source": [
    "#### 2.1 Which ratios are best suited to identify the neighbourhoods in most need of funded development\n",
    "- The ratio of houses of a zipcode with a price, a price per m^2 living or lot space within the lowest 15% of all king-county houses is better suited to identify especially poor neighborhoods\n",
    "- Since most zipcodes have only a low percentage (median values) of those affordable houses and should therefore not predominantly be populated by lower income houshoulds\n",
    "- The relative amount of houses within the lowest 15% of grades and condition per zipcode are different.\n",
    "- The median among the zipcodes is ~ 60%. So it is very common for every neighboorhood, that more than half of its houses have received a very low grade or are in a bad condition"
   ]
  },
  {
   "attachments": {},
   "cell_type": "markdown",
   "metadata": {},
   "source": [
    "#### 2.2 Identify the few Zipcodes with the highest percentage of houses in the lower 15th percentile\n",
    "\n",
    "- Order the df_ratios by variable: price_living_sqm\n",
    "- Identify the 10 with highest ration"
   ]
  },
  {
   "cell_type": "code",
   "execution_count": null,
   "metadata": {},
   "outputs": [],
   "source": [
    "### Order Dataframe ratios\n",
    "df_ratios.sort_values(by = \"ratio_under15_price_living_sqm\", ascending = False, inplace = True)\n",
    "df_ratios.reset_index(inplace = True, drop = True)\n",
    "\n",
    "df_ratios = df_ratios.iloc[:,0:]\n",
    "\n",
    "df_ratios.head(10)\n"
   ]
  },
  {
   "cell_type": "code",
   "execution_count": null,
   "metadata": {},
   "outputs": [],
   "source": [
    "### Scatterplot: ratio_price_living ~ ratio_price, colour + size = condition\n",
    "### Highlight a few zipcodes\n",
    "P6 = ggplot(df_ratios, aes (x = \"ratio_under15_price_living_sqm\", y = \"ratio_under15_price\")) + \\\n",
    "    geom_point(aes (fill = \"ratio_under15_condition\", size = \"ratio_under15_condition\")) + \\\n",
    "        scale_fill_gradient(low = \"#d4dbea\", high = \"#011d5b\") + \\\n",
    "        labs (title = \"Ratio of houses within lowest 15 perc. across Zipcodes\",\n",
    "        x = \"Ratio: Price / m^2\", y = \"Ratio: Price\", fill = \"Ratio: Condition\", size = \"Ratio: Condition\")\n",
    "\n",
    "df_ratios[\"zip_str\"] = df_ratios.zipcode.astype(\"str\")"
   ]
  },
  {
   "cell_type": "code",
   "execution_count": null,
   "metadata": {},
   "outputs": [],
   "source": [
    "### Plot the highlighted as endpoints\n",
    "#df_ratios.zip_str[12:] = np.nan\n",
    "# df_ratios.zip_str\n",
    "\n",
    "P6 + geom_text(aes(label = \"zip_str\"), nudge_x = 0.05)\n",
    "\n",
    "### The zipcodes [98022, 98092, 98012, 98031, 98002, 98032] do not fit the expectation of neighborhood\n",
    "### with high percentage of houses in lowest 15 of price, price / sqm and especially condition\n",
    "### Make them NA to not display the Value\n",
    "ind = df_ratios.zipcode.isin([98022, 98092, 98042, 98031, 98002, 98032])\n",
    "df_ratios.zip_str[ind] = np.nan\n",
    "\n",
    "### Save the plot\n",
    "P6 = P6 + geom_text(aes(label = \"zip_str\"), nudge_x = 0.05)\n",
    "P6\n",
    "ggsave(P6, \"plots/scatterplot_ratio_zipcodes.png\", dpi = 150)\n",
    "\n"
   ]
  },
  {
   "cell_type": "code",
   "execution_count": 59,
   "metadata": {},
   "outputs": [],
   "source": [
    "### Geoplot of those zipcodes\n",
    "### extract zipcodes\n",
    "### subset original df with locations\n",
    "final_zips = df_ratios.zip_str.dropna().astype(\"int\")\n"
   ]
  },
  {
   "cell_type": "code",
   "execution_count": 81,
   "metadata": {},
   "outputs": [],
   "source": [
    "### Dataframe of houses in the chosen zipcodes\n",
    "df_zip_poor = df_hs[df_hs.zipcode.isin(final_zips)]\n",
    "df_zip_poor.zipcode.unique() ### Worked\n",
    "df_zip_poor.reset_index(inplace=True, drop= True)\n",
    "\n",
    "### Groupby Zipcode and calculate mean for lon and lat for plotting\n",
    "df_zip_sum = df_zip_poor[[\"zipcode\", \"lat\", \"long\"]].groupby(\"zipcode\", as_index = False).apply(lambda x: np.mean(x))\n",
    "\n",
    "### Add Name\n",
    "df_zip_sum[\"name\"] = [\"Auburn, WA\", \"Federal Way, WA\", \"Federal Way, WA\", \"Kent, WA\", \"Seattle, WA\", \"Seattle, WA\"]\n",
    "df_zip_sum.zipcode = df_zip_sum.zipcode.astype(\"int\")"
   ]
  },
  {
   "cell_type": "code",
   "execution_count": 111,
   "metadata": {},
   "outputs": [
    {
     "data": {
      "application/vnd.plotly.v1+json": {
       "config": {
        "plotlyServerURL": "https://plot.ly"
       },
       "data": [
        {
         "customdata": [
          [
           98001
          ],
          [
           98003
          ],
          [
           98023
          ],
          [
           98030
          ],
          [
           98168
          ],
          [
           98188
          ]
         ],
         "hovertemplate": "name=%{text}<br>lat=%{lat}<br>long=%{lon}<br>zipcode=%{customdata[0]}<extra></extra>",
         "lat": [
          47.30911145251397,
          47.31560833333333,
          47.30869146341463,
          47.368947826086966,
          47.48970454545454,
          47.44729185185185
         ],
         "legendgroup": "",
         "lon": [
          -122.2706368715084,
          -122.31010507246377,
          -122.36438211382114,
          -122.1902252173913,
          -122.30774999999998,
          -122.28093333333332
         ],
         "marker": {
          "color": "#636efa"
         },
         "mode": "markers+text",
         "name": "",
         "showlegend": false,
         "subplot": "mapbox",
         "text": [
          "Auburn, WA",
          "Federal Way, WA",
          "Federal Way, WA",
          "Kent, WA",
          "Seattle, WA",
          "Seattle, WA"
         ],
         "type": "scattermapbox"
        }
       ],
       "layout": {
        "height": 600,
        "legend": {
         "tracegroupgap": 0
        },
        "mapbox": {
         "center": {
          "lat": 47.37322591210923,
          "lon": -122.28733876808631
         },
         "domain": {
          "x": [
           0,
           1
          ],
          "y": [
           0,
           1
          ]
         },
         "style": "open-street-map",
         "zoom": 10
        },
        "margin": {
         "b": 0,
         "l": 0,
         "r": 0,
         "t": 80
        },
        "template": {
         "data": {
          "bar": [
           {
            "error_x": {
             "color": "#2a3f5f"
            },
            "error_y": {
             "color": "#2a3f5f"
            },
            "marker": {
             "line": {
              "color": "#E5ECF6",
              "width": 0.5
             },
             "pattern": {
              "fillmode": "overlay",
              "size": 10,
              "solidity": 0.2
             }
            },
            "type": "bar"
           }
          ],
          "barpolar": [
           {
            "marker": {
             "line": {
              "color": "#E5ECF6",
              "width": 0.5
             },
             "pattern": {
              "fillmode": "overlay",
              "size": 10,
              "solidity": 0.2
             }
            },
            "type": "barpolar"
           }
          ],
          "carpet": [
           {
            "aaxis": {
             "endlinecolor": "#2a3f5f",
             "gridcolor": "white",
             "linecolor": "white",
             "minorgridcolor": "white",
             "startlinecolor": "#2a3f5f"
            },
            "baxis": {
             "endlinecolor": "#2a3f5f",
             "gridcolor": "white",
             "linecolor": "white",
             "minorgridcolor": "white",
             "startlinecolor": "#2a3f5f"
            },
            "type": "carpet"
           }
          ],
          "choropleth": [
           {
            "colorbar": {
             "outlinewidth": 0,
             "ticks": ""
            },
            "type": "choropleth"
           }
          ],
          "contour": [
           {
            "colorbar": {
             "outlinewidth": 0,
             "ticks": ""
            },
            "colorscale": [
             [
              0,
              "#0d0887"
             ],
             [
              0.1111111111111111,
              "#46039f"
             ],
             [
              0.2222222222222222,
              "#7201a8"
             ],
             [
              0.3333333333333333,
              "#9c179e"
             ],
             [
              0.4444444444444444,
              "#bd3786"
             ],
             [
              0.5555555555555556,
              "#d8576b"
             ],
             [
              0.6666666666666666,
              "#ed7953"
             ],
             [
              0.7777777777777778,
              "#fb9f3a"
             ],
             [
              0.8888888888888888,
              "#fdca26"
             ],
             [
              1,
              "#f0f921"
             ]
            ],
            "type": "contour"
           }
          ],
          "contourcarpet": [
           {
            "colorbar": {
             "outlinewidth": 0,
             "ticks": ""
            },
            "type": "contourcarpet"
           }
          ],
          "heatmap": [
           {
            "colorbar": {
             "outlinewidth": 0,
             "ticks": ""
            },
            "colorscale": [
             [
              0,
              "#0d0887"
             ],
             [
              0.1111111111111111,
              "#46039f"
             ],
             [
              0.2222222222222222,
              "#7201a8"
             ],
             [
              0.3333333333333333,
              "#9c179e"
             ],
             [
              0.4444444444444444,
              "#bd3786"
             ],
             [
              0.5555555555555556,
              "#d8576b"
             ],
             [
              0.6666666666666666,
              "#ed7953"
             ],
             [
              0.7777777777777778,
              "#fb9f3a"
             ],
             [
              0.8888888888888888,
              "#fdca26"
             ],
             [
              1,
              "#f0f921"
             ]
            ],
            "type": "heatmap"
           }
          ],
          "heatmapgl": [
           {
            "colorbar": {
             "outlinewidth": 0,
             "ticks": ""
            },
            "colorscale": [
             [
              0,
              "#0d0887"
             ],
             [
              0.1111111111111111,
              "#46039f"
             ],
             [
              0.2222222222222222,
              "#7201a8"
             ],
             [
              0.3333333333333333,
              "#9c179e"
             ],
             [
              0.4444444444444444,
              "#bd3786"
             ],
             [
              0.5555555555555556,
              "#d8576b"
             ],
             [
              0.6666666666666666,
              "#ed7953"
             ],
             [
              0.7777777777777778,
              "#fb9f3a"
             ],
             [
              0.8888888888888888,
              "#fdca26"
             ],
             [
              1,
              "#f0f921"
             ]
            ],
            "type": "heatmapgl"
           }
          ],
          "histogram": [
           {
            "marker": {
             "pattern": {
              "fillmode": "overlay",
              "size": 10,
              "solidity": 0.2
             }
            },
            "type": "histogram"
           }
          ],
          "histogram2d": [
           {
            "colorbar": {
             "outlinewidth": 0,
             "ticks": ""
            },
            "colorscale": [
             [
              0,
              "#0d0887"
             ],
             [
              0.1111111111111111,
              "#46039f"
             ],
             [
              0.2222222222222222,
              "#7201a8"
             ],
             [
              0.3333333333333333,
              "#9c179e"
             ],
             [
              0.4444444444444444,
              "#bd3786"
             ],
             [
              0.5555555555555556,
              "#d8576b"
             ],
             [
              0.6666666666666666,
              "#ed7953"
             ],
             [
              0.7777777777777778,
              "#fb9f3a"
             ],
             [
              0.8888888888888888,
              "#fdca26"
             ],
             [
              1,
              "#f0f921"
             ]
            ],
            "type": "histogram2d"
           }
          ],
          "histogram2dcontour": [
           {
            "colorbar": {
             "outlinewidth": 0,
             "ticks": ""
            },
            "colorscale": [
             [
              0,
              "#0d0887"
             ],
             [
              0.1111111111111111,
              "#46039f"
             ],
             [
              0.2222222222222222,
              "#7201a8"
             ],
             [
              0.3333333333333333,
              "#9c179e"
             ],
             [
              0.4444444444444444,
              "#bd3786"
             ],
             [
              0.5555555555555556,
              "#d8576b"
             ],
             [
              0.6666666666666666,
              "#ed7953"
             ],
             [
              0.7777777777777778,
              "#fb9f3a"
             ],
             [
              0.8888888888888888,
              "#fdca26"
             ],
             [
              1,
              "#f0f921"
             ]
            ],
            "type": "histogram2dcontour"
           }
          ],
          "mesh3d": [
           {
            "colorbar": {
             "outlinewidth": 0,
             "ticks": ""
            },
            "type": "mesh3d"
           }
          ],
          "parcoords": [
           {
            "line": {
             "colorbar": {
              "outlinewidth": 0,
              "ticks": ""
             }
            },
            "type": "parcoords"
           }
          ],
          "pie": [
           {
            "automargin": true,
            "type": "pie"
           }
          ],
          "scatter": [
           {
            "fillpattern": {
             "fillmode": "overlay",
             "size": 10,
             "solidity": 0.2
            },
            "type": "scatter"
           }
          ],
          "scatter3d": [
           {
            "line": {
             "colorbar": {
              "outlinewidth": 0,
              "ticks": ""
             }
            },
            "marker": {
             "colorbar": {
              "outlinewidth": 0,
              "ticks": ""
             }
            },
            "type": "scatter3d"
           }
          ],
          "scattercarpet": [
           {
            "marker": {
             "colorbar": {
              "outlinewidth": 0,
              "ticks": ""
             }
            },
            "type": "scattercarpet"
           }
          ],
          "scattergeo": [
           {
            "marker": {
             "colorbar": {
              "outlinewidth": 0,
              "ticks": ""
             }
            },
            "type": "scattergeo"
           }
          ],
          "scattergl": [
           {
            "marker": {
             "colorbar": {
              "outlinewidth": 0,
              "ticks": ""
             }
            },
            "type": "scattergl"
           }
          ],
          "scattermapbox": [
           {
            "marker": {
             "colorbar": {
              "outlinewidth": 0,
              "ticks": ""
             }
            },
            "type": "scattermapbox"
           }
          ],
          "scatterpolar": [
           {
            "marker": {
             "colorbar": {
              "outlinewidth": 0,
              "ticks": ""
             }
            },
            "type": "scatterpolar"
           }
          ],
          "scatterpolargl": [
           {
            "marker": {
             "colorbar": {
              "outlinewidth": 0,
              "ticks": ""
             }
            },
            "type": "scatterpolargl"
           }
          ],
          "scatterternary": [
           {
            "marker": {
             "colorbar": {
              "outlinewidth": 0,
              "ticks": ""
             }
            },
            "type": "scatterternary"
           }
          ],
          "surface": [
           {
            "colorbar": {
             "outlinewidth": 0,
             "ticks": ""
            },
            "colorscale": [
             [
              0,
              "#0d0887"
             ],
             [
              0.1111111111111111,
              "#46039f"
             ],
             [
              0.2222222222222222,
              "#7201a8"
             ],
             [
              0.3333333333333333,
              "#9c179e"
             ],
             [
              0.4444444444444444,
              "#bd3786"
             ],
             [
              0.5555555555555556,
              "#d8576b"
             ],
             [
              0.6666666666666666,
              "#ed7953"
             ],
             [
              0.7777777777777778,
              "#fb9f3a"
             ],
             [
              0.8888888888888888,
              "#fdca26"
             ],
             [
              1,
              "#f0f921"
             ]
            ],
            "type": "surface"
           }
          ],
          "table": [
           {
            "cells": {
             "fill": {
              "color": "#EBF0F8"
             },
             "line": {
              "color": "white"
             }
            },
            "header": {
             "fill": {
              "color": "#C8D4E3"
             },
             "line": {
              "color": "white"
             }
            },
            "type": "table"
           }
          ]
         },
         "layout": {
          "annotationdefaults": {
           "arrowcolor": "#2a3f5f",
           "arrowhead": 0,
           "arrowwidth": 1
          },
          "autotypenumbers": "strict",
          "coloraxis": {
           "colorbar": {
            "outlinewidth": 0,
            "ticks": ""
           }
          },
          "colorscale": {
           "diverging": [
            [
             0,
             "#8e0152"
            ],
            [
             0.1,
             "#c51b7d"
            ],
            [
             0.2,
             "#de77ae"
            ],
            [
             0.3,
             "#f1b6da"
            ],
            [
             0.4,
             "#fde0ef"
            ],
            [
             0.5,
             "#f7f7f7"
            ],
            [
             0.6,
             "#e6f5d0"
            ],
            [
             0.7,
             "#b8e186"
            ],
            [
             0.8,
             "#7fbc41"
            ],
            [
             0.9,
             "#4d9221"
            ],
            [
             1,
             "#276419"
            ]
           ],
           "sequential": [
            [
             0,
             "#0d0887"
            ],
            [
             0.1111111111111111,
             "#46039f"
            ],
            [
             0.2222222222222222,
             "#7201a8"
            ],
            [
             0.3333333333333333,
             "#9c179e"
            ],
            [
             0.4444444444444444,
             "#bd3786"
            ],
            [
             0.5555555555555556,
             "#d8576b"
            ],
            [
             0.6666666666666666,
             "#ed7953"
            ],
            [
             0.7777777777777778,
             "#fb9f3a"
            ],
            [
             0.8888888888888888,
             "#fdca26"
            ],
            [
             1,
             "#f0f921"
            ]
           ],
           "sequentialminus": [
            [
             0,
             "#0d0887"
            ],
            [
             0.1111111111111111,
             "#46039f"
            ],
            [
             0.2222222222222222,
             "#7201a8"
            ],
            [
             0.3333333333333333,
             "#9c179e"
            ],
            [
             0.4444444444444444,
             "#bd3786"
            ],
            [
             0.5555555555555556,
             "#d8576b"
            ],
            [
             0.6666666666666666,
             "#ed7953"
            ],
            [
             0.7777777777777778,
             "#fb9f3a"
            ],
            [
             0.8888888888888888,
             "#fdca26"
            ],
            [
             1,
             "#f0f921"
            ]
           ]
          },
          "colorway": [
           "#636efa",
           "#EF553B",
           "#00cc96",
           "#ab63fa",
           "#FFA15A",
           "#19d3f3",
           "#FF6692",
           "#B6E880",
           "#FF97FF",
           "#FECB52"
          ],
          "font": {
           "color": "#2a3f5f"
          },
          "geo": {
           "bgcolor": "white",
           "lakecolor": "white",
           "landcolor": "#E5ECF6",
           "showlakes": true,
           "showland": true,
           "subunitcolor": "white"
          },
          "hoverlabel": {
           "align": "left"
          },
          "hovermode": "closest",
          "mapbox": {
           "style": "light"
          },
          "paper_bgcolor": "white",
          "plot_bgcolor": "#E5ECF6",
          "polar": {
           "angularaxis": {
            "gridcolor": "white",
            "linecolor": "white",
            "ticks": ""
           },
           "bgcolor": "#E5ECF6",
           "radialaxis": {
            "gridcolor": "white",
            "linecolor": "white",
            "ticks": ""
           }
          },
          "scene": {
           "xaxis": {
            "backgroundcolor": "#E5ECF6",
            "gridcolor": "white",
            "gridwidth": 2,
            "linecolor": "white",
            "showbackground": true,
            "ticks": "",
            "zerolinecolor": "white"
           },
           "yaxis": {
            "backgroundcolor": "#E5ECF6",
            "gridcolor": "white",
            "gridwidth": 2,
            "linecolor": "white",
            "showbackground": true,
            "ticks": "",
            "zerolinecolor": "white"
           },
           "zaxis": {
            "backgroundcolor": "#E5ECF6",
            "gridcolor": "white",
            "gridwidth": 2,
            "linecolor": "white",
            "showbackground": true,
            "ticks": "",
            "zerolinecolor": "white"
           }
          },
          "shapedefaults": {
           "line": {
            "color": "#2a3f5f"
           }
          },
          "ternary": {
           "aaxis": {
            "gridcolor": "white",
            "linecolor": "white",
            "ticks": ""
           },
           "baxis": {
            "gridcolor": "white",
            "linecolor": "white",
            "ticks": ""
           },
           "bgcolor": "#E5ECF6",
           "caxis": {
            "gridcolor": "white",
            "linecolor": "white",
            "ticks": ""
           }
          },
          "title": {
           "x": 0.05
          },
          "xaxis": {
           "automargin": true,
           "gridcolor": "white",
           "linecolor": "white",
           "ticks": "",
           "title": {
            "standoff": 15
           },
           "zerolinecolor": "white",
           "zerolinewidth": 2
          },
          "yaxis": {
           "automargin": true,
           "gridcolor": "white",
           "linecolor": "white",
           "ticks": "",
           "title": {
            "standoff": 15
           },
           "zerolinecolor": "white",
           "zerolinewidth": 2
          }
         }
        },
        "title": {
         "text": "Poorer Neighborhoods <br> with development potential in King County",
         "x": 0.5,
         "y": 0.95
        }
       }
      }
     },
     "metadata": {},
     "output_type": "display_data"
    },
    {
     "ename": "ValueError",
     "evalue": "\nImage export using the \"kaleido\" engine requires the kaleido package,\nwhich can be installed using pip:\n    $ pip install -U kaleido\n",
     "output_type": "error",
     "traceback": [
      "\u001b[0;31m---------------------------------------------------------------------------\u001b[0m",
      "\u001b[0;31mValueError\u001b[0m                                Traceback (most recent call last)",
      "Cell \u001b[0;32mIn[111], line 17\u001b[0m\n\u001b[1;32m     10\u001b[0m P7\u001b[39m.\u001b[39mupdate_layout(\n\u001b[1;32m     11\u001b[0m     title_x\u001b[39m=\u001b[39m\u001b[39m0.5\u001b[39m,\n\u001b[1;32m     12\u001b[0m     title_y\u001b[39m=\u001b[39m\u001b[39m0.95\u001b[39m,\n\u001b[1;32m     13\u001b[0m     mapbox\u001b[39m=\u001b[39m{\u001b[39m\"\u001b[39m\u001b[39mstyle\u001b[39m\u001b[39m\"\u001b[39m: \u001b[39m\"\u001b[39m\u001b[39mopen-street-map\u001b[39m\u001b[39m\"\u001b[39m},\n\u001b[1;32m     14\u001b[0m     margin\u001b[39m=\u001b[39m{\u001b[39m\"\u001b[39m\u001b[39ml\u001b[39m\u001b[39m\"\u001b[39m: \u001b[39m0\u001b[39m, \u001b[39m\"\u001b[39m\u001b[39mr\u001b[39m\u001b[39m\"\u001b[39m: \u001b[39m0\u001b[39m, \u001b[39m\"\u001b[39m\u001b[39mb\u001b[39m\u001b[39m\"\u001b[39m: \u001b[39m0\u001b[39m, \u001b[39m\"\u001b[39m\u001b[39mt\u001b[39m\u001b[39m\"\u001b[39m: \u001b[39m80\u001b[39m}\n\u001b[1;32m     15\u001b[0m )\n\u001b[1;32m     16\u001b[0m P7\u001b[39m.\u001b[39mshow()\n\u001b[0;32m---> 17\u001b[0m P7\u001b[39m.\u001b[39;49mwrite_image(file \u001b[39m=\u001b[39;49m \u001b[39m\"\u001b[39;49m\u001b[39m./plots/scatter_map.png\u001b[39;49m\u001b[39m\"\u001b[39;49m, width \u001b[39m=\u001b[39;49m \u001b[39m1200\u001b[39;49m)\n",
      "File \u001b[0;32m~/neuefische/ds-eda-project-gunnar-oeh/.venv/lib/python3.9/site-packages/plotly/basedatatypes.py:3821\u001b[0m, in \u001b[0;36mBaseFigure.write_image\u001b[0;34m(self, *args, **kwargs)\u001b[0m\n\u001b[1;32m   3761\u001b[0m \u001b[39m\u001b[39m\u001b[39m\"\"\"\u001b[39;00m\n\u001b[1;32m   3762\u001b[0m \u001b[39mConvert a figure to a static image and write it to a file or writeable\u001b[39;00m\n\u001b[1;32m   3763\u001b[0m \u001b[39mobject\u001b[39;00m\n\u001b[0;32m   (...)\u001b[0m\n\u001b[1;32m   3817\u001b[0m \u001b[39mNone\u001b[39;00m\n\u001b[1;32m   3818\u001b[0m \u001b[39m\"\"\"\u001b[39;00m\n\u001b[1;32m   3819\u001b[0m \u001b[39mimport\u001b[39;00m \u001b[39mplotly\u001b[39;00m\u001b[39m.\u001b[39;00m\u001b[39mio\u001b[39;00m \u001b[39mas\u001b[39;00m \u001b[39mpio\u001b[39;00m\n\u001b[0;32m-> 3821\u001b[0m \u001b[39mreturn\u001b[39;00m pio\u001b[39m.\u001b[39;49mwrite_image(\u001b[39mself\u001b[39;49m, \u001b[39m*\u001b[39;49margs, \u001b[39m*\u001b[39;49m\u001b[39m*\u001b[39;49mkwargs)\n",
      "File \u001b[0;32m~/neuefische/ds-eda-project-gunnar-oeh/.venv/lib/python3.9/site-packages/plotly/io/_kaleido.py:267\u001b[0m, in \u001b[0;36mwrite_image\u001b[0;34m(fig, file, format, scale, width, height, validate, engine)\u001b[0m\n\u001b[1;32m    251\u001b[0m             \u001b[39mraise\u001b[39;00m \u001b[39mValueError\u001b[39;00m(\n\u001b[1;32m    252\u001b[0m \u001b[39m                \u001b[39m\u001b[39m\"\"\"\u001b[39;00m\n\u001b[1;32m    253\u001b[0m \u001b[39mCannot infer image type from output path '{file}'.\u001b[39;00m\n\u001b[0;32m   (...)\u001b[0m\n\u001b[1;32m    261\u001b[0m                 )\n\u001b[1;32m    262\u001b[0m             )\n\u001b[1;32m    264\u001b[0m     \u001b[39m# Request image\u001b[39;00m\n\u001b[1;32m    265\u001b[0m     \u001b[39m# -------------\u001b[39;00m\n\u001b[1;32m    266\u001b[0m     \u001b[39m# Do this first so we don't create a file if image conversion fails\u001b[39;00m\n\u001b[0;32m--> 267\u001b[0m     img_data \u001b[39m=\u001b[39m to_image(\n\u001b[1;32m    268\u001b[0m         fig,\n\u001b[1;32m    269\u001b[0m         \u001b[39mformat\u001b[39;49m\u001b[39m=\u001b[39;49m\u001b[39mformat\u001b[39;49m,\n\u001b[1;32m    270\u001b[0m         scale\u001b[39m=\u001b[39;49mscale,\n\u001b[1;32m    271\u001b[0m         width\u001b[39m=\u001b[39;49mwidth,\n\u001b[1;32m    272\u001b[0m         height\u001b[39m=\u001b[39;49mheight,\n\u001b[1;32m    273\u001b[0m         validate\u001b[39m=\u001b[39;49mvalidate,\n\u001b[1;32m    274\u001b[0m         engine\u001b[39m=\u001b[39;49mengine,\n\u001b[1;32m    275\u001b[0m     )\n\u001b[1;32m    277\u001b[0m     \u001b[39m# Open file\u001b[39;00m\n\u001b[1;32m    278\u001b[0m     \u001b[39m# ---------\u001b[39;00m\n\u001b[1;32m    279\u001b[0m     \u001b[39mif\u001b[39;00m path \u001b[39mis\u001b[39;00m \u001b[39mNone\u001b[39;00m:\n\u001b[1;32m    280\u001b[0m         \u001b[39m# We previously failed to make sense of `file` as a pathlib object.\u001b[39;00m\n\u001b[1;32m    281\u001b[0m         \u001b[39m# Attempt to write to `file` as an open file descriptor.\u001b[39;00m\n",
      "File \u001b[0;32m~/neuefische/ds-eda-project-gunnar-oeh/.venv/lib/python3.9/site-packages/plotly/io/_kaleido.py:133\u001b[0m, in \u001b[0;36mto_image\u001b[0;34m(fig, format, width, height, scale, validate, engine)\u001b[0m\n\u001b[1;32m    131\u001b[0m     \u001b[39m# Raise informative error message if Kaleido is not installed\u001b[39;00m\n\u001b[1;32m    132\u001b[0m     \u001b[39mif\u001b[39;00m scope \u001b[39mis\u001b[39;00m \u001b[39mNone\u001b[39;00m:\n\u001b[0;32m--> 133\u001b[0m         \u001b[39mraise\u001b[39;00m \u001b[39mValueError\u001b[39;00m(\n\u001b[1;32m    134\u001b[0m \u001b[39m            \u001b[39m\u001b[39m\"\"\"\u001b[39;00m\n\u001b[1;32m    135\u001b[0m \u001b[39mImage export using the \"kaleido\" engine requires the kaleido package,\u001b[39;00m\n\u001b[1;32m    136\u001b[0m \u001b[39mwhich can be installed using pip:\u001b[39;00m\n\u001b[1;32m    137\u001b[0m \u001b[39m    $ pip install -U kaleido\u001b[39;00m\n\u001b[1;32m    138\u001b[0m \u001b[39m\"\"\"\u001b[39;00m\n\u001b[1;32m    139\u001b[0m         )\n\u001b[1;32m    141\u001b[0m     \u001b[39m# Validate figure\u001b[39;00m\n\u001b[1;32m    142\u001b[0m     \u001b[39m# ---------------\u001b[39;00m\n\u001b[1;32m    143\u001b[0m     fig_dict \u001b[39m=\u001b[39m validate_coerce_fig_to_dict(fig, validate)\n",
      "\u001b[0;31mValueError\u001b[0m: \nImage export using the \"kaleido\" engine requires the kaleido package,\nwhich can be installed using pip:\n    $ pip install -U kaleido\n"
     ]
    }
   ],
   "source": [
    "### Scatter geo\n",
    "P7 = px.scatter_mapbox(df_zip_sum,\n",
    "        title = \"Poorer Neighborhoods <br> with development potential in King County\",\n",
    "        lat=\"lat\", lon=\"long\",\n",
    "        #hover_name=\"name\",\n",
    "        hover_data=[\"zipcode\"],\n",
    "        text = \"name\",\n",
    "        zoom=10,  height=600)\n",
    "\n",
    "P7.update_layout(\n",
    "    title_x=0.5,\n",
    "    title_y=0.95,\n",
    "    mapbox={\"style\": \"open-street-map\"},\n",
    "    margin={\"l\": 0, \"r\": 0, \"b\": 0, \"t\": 80}\n",
    ")\n",
    "P7.show()\n",
    "P7.write_image(file = \"./plots/scatter_map.png\", width = 1200)\n"
   ]
  }
 ],
 "metadata": {
  "kernelspec": {
   "display_name": ".venv",
   "language": "python",
   "name": "python3"
  },
  "language_info": {
   "codemirror_mode": {
    "name": "ipython",
    "version": 3
   },
   "file_extension": ".py",
   "mimetype": "text/x-python",
   "name": "python",
   "nbconvert_exporter": "python",
   "pygments_lexer": "ipython3",
   "version": "3.9.8"
  },
  "orig_nbformat": 4,
  "vscode": {
   "interpreter": {
    "hash": "9ce94bdfc54693336f2ba42aa87a7cd0f0c4e0845b78939f0948bf4cf6add902"
   }
  }
 },
 "nbformat": 4,
 "nbformat_minor": 2
}
