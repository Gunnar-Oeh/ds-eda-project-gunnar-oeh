{
 "cells": [
  {
   "attachments": {},
   "cell_type": "markdown",
   "metadata": {},
   "source": [
    "# Data Analysis\n",
    "## Client\n",
    "Erin Robinson: Buyer\t\n",
    "- Invest in poor neighborhood\n",
    "- buying & selling \n",
    "- costs back + little profit\n",
    "- socially responsible\n",
    "\n",
    "Erin wants to buy property in poor neighbourhoods to create, renovate and maintain affordable living space for rent and selling. Since she is responsible, renovating outdated property is possible. With Erins private resources, houses shall be bought, possibly renovated and the new property shall be transfered into a community oriented fund.\n",
    "\n",
    "## Questions:\n",
    "1. What parameters describe a poor neighbourhood based on the house data?\n",
    "2. Where are those poor neighbourhoods located\n",
    "3. In which of those neighbourhoods is the renovated fraction especially small and houses are reletively old and condition or grade is rather bad -> These are the neighborhoods in most need of development "
   ]
  },
  {
   "attachments": {},
   "cell_type": "markdown",
   "metadata": {},
   "source": [
    "### Question 1. : What parameters describe a poor neighbourhood based on the house data?\n",
    "#### Assumptions:\n",
    "- low price / m^2\n",
    "- small lot area\n",
    "- small living area\n",
    "- bad condition\n",
    "- bad grade\n",
    "\n",
    "#### Further Information: Poverty rate\n",
    "\n",
    "The poverty rate is the ratio of the number of people (in a given age group) whose income falls below the poverty line; taken as half the median household income of the total population.\n",
    "The povery rate among all age groups in the US is 0.151\n",
    "(OECD (2023), Poverty rate (indicator). doi: 10.1787/0fe1315d-en (Accessed on 26 January 2023))\n",
    "\n",
    "#### Methods\n",
    "- price per m^2 <= perc(15)\n",
    "- lot area <= perc(15)\n",
    "- living area <= perc(15)\n",
    "- condition <= perc(15)\n",
    "- grade <= perc(15)"
   ]
  },
  {
   "cell_type": "code",
   "execution_count": null,
   "metadata": {},
   "outputs": [],
   "source": [
    "### Setup\n",
    "import pandas as pd\n",
    "import numpy as np\n",
    "# import missingno as msn\n",
    "# import plotly.express as px\n",
    "# import datetime as dt\n",
    "from plotnine import *\n",
    "from functools import reduce\n",
    "\n",
    "df_hs = pd.read_pickle(\"./data/df_houses_cleaned.pkl\")"
   ]
  },
  {
   "cell_type": "code",
   "execution_count": null,
   "metadata": {},
   "outputs": [],
   "source": [
    "### Question 1. : What parameters describe a poor neighbourhood based on the house data?\n",
    "\n",
    "### Calculate price / m^2\n",
    "df_hs[\"price_living_sqm\"] = (df_hs.price / df_hs.a_living_sqm).round(2)\n",
    "df_hs[\"price_lot_sqm\"] = (df_hs.price / df_hs.a_lot_sqm).round(2)\n",
    "\n"
   ]
  },
  {
   "cell_type": "code",
   "execution_count": null,
   "metadata": {},
   "outputs": [],
   "source": [
    "### Calculate percentile as dictionary for: price_living_sqm, price_lot_sqm, a_living_sqm, grade, condition\n",
    "col_perc_15 = {} # dictionary to be filled\n",
    "cols = [\"price\", \"price_living_sqm\", \"price_lot_sqm\", \"a_living_sqm\", \"grade\", \"condition\"] # columns to apply perc on\n",
    "for col in cols:\n",
    "    \n",
    "    col_perc_15[col] = df_hs[col].quantile(0.15)\n",
    "\n",
    "del col\n",
    "col_perc_15\n"
   ]
  },
  {
   "cell_type": "code",
   "execution_count": null,
   "metadata": {},
   "outputs": [],
   "source": [
    "### Define boolean series for those columns wether the entry in the respective column is <= the perc(15)\n",
    "col_test_perc_15 = {}\n",
    "for col in cols:\n",
    "    series_col = df_hs[col] <= col_perc_15[col]\n",
    "    col_test_perc_15[col] = series_col\n",
    "\n",
    "### Save it as DataFrame\n",
    "df_perc_15 = pd.DataFrame.from_dict(col_test_perc_15)\n",
    "### Find out, wether this was a smart choice?\n",
    "### Do the columns \"price_living_sqm\", \"price_lot_sqm\", \"a_living_sqm\", \"grade\", \"condition\" correlate?\n",
    "\n",
    "### Create a correlation matrix of the columns of interest\n",
    "df_corr_1 = df_hs[cols].corr(method = \"spearman\")\n",
    "\n",
    "### Names for indexes\n",
    "new_ind = {}\n",
    "k = 0\n",
    "for col in cols:\n",
    "    new_ind[k] = col\n",
    "    k += 1\n",
    "\n",
    "df_corr_1.rename (index = new_ind, inplace = True)\n",
    "\n",
    "### Create a correlation plot\n",
    "df_corr_1 = df_corr_1.melt(ignore_index = False).rename_axis (\"index1\").reset_index()\n",
    "df_corr_1.rename ({'index1':'var_1', 'variable':'var_2', 'value':'spearman_correlation'}, inplace = True, axis = 1)\n",
    "df_corr_1[\"lab_text\"] = df_corr_1.spearman_correlation.round(2).astype(\"str\")\n"
   ]
  },
  {
   "cell_type": "code",
   "execution_count": null,
   "metadata": {},
   "outputs": [],
   "source": [
    "P3 = ggplot(df_corr_1, aes(x = \"var_2\", y = \"var_1\", fill = \"spearman_correlation\")) + \\\n",
    "    geom_tile() + \\\n",
    "    geom_label(\n",
    "        aes (label = \"lab_text\"),\n",
    "                fill = \"white\",\n",
    "                size = 8) + \\\n",
    "    scale_fill_distiller() + \\\n",
    "    theme_minimal() + \\\n",
    "    labs(title = \"Housing characteristics - Correlation Matrix\", x = \"\", y = \"\") + \\\n",
    "    theme (axis_text_x = element_text(rotation = 45, hjust = 1),\n",
    "            figure_size = (8,6))\n",
    "\n",
    "ggsave (P3, )"
   ]
  },
  {
   "attachments": {},
   "cell_type": "markdown",
   "metadata": {},
   "source": [
    "### Question 1: Takeaways\n",
    "\n",
    "- Correlation graph as it is now not well suited - lowest correlations have the highest numbers\n",
    "- The larger the living area, the higher the grade (0.72)\n",
    "- The grade rises slightly with the area price\n",
    "- The price per area rises only slightly with the condition\n",
    "- The grade rises with the price per lot area\n",
    "- The price rises with the grade\n",
    "- The median price for houses in condition 1 and 2 seems to be 100000$ lower than 3-5. Therefore focus on those houses"
   ]
  },
  {
   "attachments": {},
   "cell_type": "markdown",
   "metadata": {},
   "source": [
    "### Question 2: Where might poor neighborhoods based on the housing data be located?\n",
    "\n",
    "#### Methods:\n",
    "- Compare percentage of houses with low price per sqm (<= perc(15)) between zip codes\n",
    "- Plot the most promising locations"
   ]
  },
  {
   "cell_type": "code",
   "execution_count": null,
   "metadata": {},
   "outputs": [],
   "source": [
    "### Meaningful zip-code and house data?\n",
    "\n",
    "df_zip_count = df_hs.groupby(\"zipcode\", as_index = False).count()[[\"zipcode\", \"id_house\"]]\n",
    "df_zip_count # 70 zipcodes\n",
    "df_zip_count.describe().round(2) # with a mean of 308 houses each between 50 and 600 houses"
   ]
  },
  {
   "cell_type": "code",
   "execution_count": null,
   "metadata": {},
   "outputs": [],
   "source": [
    "### Percentage of houses per zip-code below the price per area living 15 th percentile\n",
    "cols_subset = cols + [\"zipcode\", \"id_house\"] # subset of columns for further investigation\n",
    "### concat cols and the boolean information on the percentile\n",
    "\n",
    "### Or cleaer differientiating by price?"
   ]
  },
  {
   "cell_type": "code",
   "execution_count": null,
   "metadata": {},
   "outputs": [],
   "source": [
    "### Concatenate df_hs with only columns of interest and df_perc_15\n",
    "new_cols = {}\n",
    "for col in list(df_perc_15.columns):\n",
    "    new_cols[col] = \"under15_\" + col\n",
    "\n",
    "df_perc_15.rename(new_cols, axis = 1, inplace = True)\n",
    "\n",
    "### df of interest with columns of interest and wether they are below their respt 15 perc\n",
    "df_hs_intr = pd.concat([df_hs[cols_subset], df_perc_15], axis = 1)\n"
   ]
  },
  {
   "cell_type": "code",
   "execution_count": 70,
   "metadata": {},
   "outputs": [
    {
     "name": "stdout",
     "output_type": "stream",
     "text": [
      "<class 'pandas.core.frame.DataFrame'>\n",
      "Int64Index: 70 entries, 0 to 69\n",
      "Data columns (total 7 columns):\n",
      " #   Column                          Non-Null Count  Dtype  \n",
      "---  ------                          --------------  -----  \n",
      " 0   zipcode                         70 non-null     int64  \n",
      " 1   ratio_under15_price             57 non-null     float64\n",
      " 2   ratio_under15_price_living_sqm  60 non-null     float64\n",
      " 3   ratio_under15_price_lot_sqm     57 non-null     float64\n",
      " 4   ratio_under15_a_living_sqm      70 non-null     float64\n",
      " 5   ratio_under15_grade             70 non-null     float64\n",
      " 6   ratio_under15_condition         70 non-null     float64\n",
      "dtypes: float64(6), int64(1)\n",
      "memory usage: 4.4 KB\n"
     ]
    }
   ],
   "source": [
    "### Function to calculate the ratio of houses below the 15th perc for the corresponding column\n",
    "### eg for column price: calculates for each zipcode, the ratio of house prices under the 15th percentile \n",
    "### of house prices from the whole county\n",
    "\n",
    "def ratio_group(df, col_name, group_factor = \"zipcode\"):\n",
    "    col_perc15 = \"under15_\" + col_name # name of colum with corresponding boolean <= perc 15\n",
    "    df_gr = df.groupby([group_factor, col_perc15], as_index = False).count()[[group_factor, col_perc15, \"id_house\"]]\n",
    "    df_gr.rename({\"id_house\":\"n_houses\"}, axis = 1, inplace = True)\n",
    "\n",
    "# Calculates the ratio only for those zipcodes, where there are houses below the 15th percentile of the corresponding\n",
    "# column\n",
    "    def ratio_perc15(df_2):\n",
    "        ind = df_2[col_perc15] == True\n",
    "        new_col_rat = \"ratio_\" + col_perc15 # new name for ratio column\n",
    "        df_2[new_col_rat] = df_2.n_houses[ind] / sum (df_2.n_houses)\n",
    "        return df_2\n",
    "\n",
    "    df_gr = df_gr.groupby(group_factor, as_index = False).apply(ratio_perc15)\n",
    "    df_gr = df_gr[df_gr[col_perc15] == True]\n",
    "    return df_gr.iloc[:,[0,3]]\n",
    "\n",
    "### Apply to all columns of interest - create a list with a df for each column of interes\n",
    "### (price, price per sqm, area living space and lot, condition, grade)\n",
    "ratios_zip = []\n",
    "for x in cols:\n",
    "    ratios_zip.append(ratio_group(df_hs_intr, x))\n",
    "\n",
    "\n",
    "### Combine dfs in list into one df\n",
    "df_ratios = reduce (lambda df1, df2: df1.merge (df2, on = \"zipcode\", how = \"outer\"), ratios_zip)\n",
    "\n",
    "### Compare info on the whole new df of ratios \n",
    "df_ratios.info()\n",
    "### with length of dfs in the original list\n",
    "for x in ratios_zip:\n",
    "    print (len(x))\n",
    "\n",
    "### df_ratios can be now used for searching for the right zipcode\n"
   ]
  },
  {
   "cell_type": "code",
   "execution_count": 82,
   "metadata": {},
   "outputs": [
    {
     "name": "stderr",
     "output_type": "stream",
     "text": [
      "/Users/gunnaroehmichen/neuefische/ds-eda-project-gunnar-oeh/.venv/lib/python3.9/site-packages/plotnine/layer.py:333: PlotnineWarning: stat_boxplot : Removed 36 rows containing non-finite values.\n"
     ]
    },
    {
     "data": {
      "image/png": "[encoded data removed]",
      "text/plain": [
       "<Figure size 640x480 with 1 Axes>"
      ]
     },
     "metadata": {},
     "output_type": "display_data"
    },
    {
     "data": {
      "text/plain": [
       "<ggplot: (378112458)>"
      ]
     },
     "execution_count": 82,
     "metadata": {},
     "output_type": "execute_result"
    }
   ],
   "source": [
    "df_ratios_long = df_ratios.melt(id_vars = \"zipcode\")\n",
    "df_ratios_long[\"zip_str\"] = df_ratios_long.zipcode.astype(\"str\")\n",
    "\n",
    "P5 = ggplot(df_ratios_long, aes (x = \"variable\", y = \"value\")) + geom_boxplot() + coord_flip()\n",
    "P5\n"
   ]
  }
 ],
 "metadata": {
  "kernelspec": {
   "display_name": ".venv",
   "language": "python",
   "name": "python3"
  },
  "language_info": {
   "codemirror_mode": {
    "name": "ipython",
    "version": 3
   },
   "file_extension": ".py",
   "mimetype": "text/x-python",
   "name": "python",
   "nbconvert_exporter": "python",
   "pygments_lexer": "ipython3",
   "version": "3.9.8"
  },
  "orig_nbformat": 4,
  "vscode": {
   "interpreter": {
    "hash": "9ce94bdfc54693336f2ba42aa87a7cd0f0c4e0845b78939f0948bf4cf6add902"
   }
  }
 },
 "nbformat": 4,
 "nbformat_minor": 2
}
